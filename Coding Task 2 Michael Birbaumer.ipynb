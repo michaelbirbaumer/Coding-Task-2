{
  "nbformat": 4,
  "nbformat_minor": 0,
  "metadata": {
    "colab": {
      "name": "Untitled0.ipynb",
      "provenance": [],
      "authorship_tag": "ABX9TyMganoAnHKcJetT81Znh+L2",
      "include_colab_link": true
    },
    "kernelspec": {
      "name": "python3",
      "display_name": "Python 3"
    },
    "language_info": {
      "name": "python"
    }
  },
  "cells": [
    {
      "cell_type": "markdown",
      "metadata": {
        "id": "view-in-github",
        "colab_type": "text"
      },
      "source": [
        "<a href=\"https://colab.research.google.com/github/michaelbirbaumer/Coding-Task-2/blob/main/Coding%20Task%202%20Michael%20Birbaumer.ipynb\" target=\"_parent\"><img src=\"https://colab.research.google.com/assets/colab-badge.svg\" alt=\"Open In Colab\"/></a>"
      ]
    },
    {
      "cell_type": "code",
      "execution_count": null,
      "metadata": {
        "id": "UfOPXFc3oR73"
      },
      "outputs": [],
      "source": [
        ""
      ]
    },
    {
      "cell_type": "code",
      "source": [
        "import numpy as np\n",
        "import matplotlib.pyplot as plt\n",
        "import skimage.io as io\n",
        "import skimage.filters as skf\n",
        "import skimage.morphology as skm"
      ],
      "metadata": {
        "id": "mIrXC_IOod8h"
      },
      "execution_count": 6,
      "outputs": []
    },
    {
      "cell_type": "code",
      "source": [
        "from google.colab import drive\n",
        "drive.mount('/content/drive')\n",
        "path = '/content/drive/MyDrive/Coding-Task-2'"
      ],
      "metadata": {
        "colab": {
          "base_uri": "https://localhost:8080/"
        },
        "id": "aNv0awaFpaS9",
        "outputId": "9b62be03-8cbb-4057-b297-930b81d79618"
      },
      "execution_count": 7,
      "outputs": [
        {
          "output_type": "stream",
          "name": "stdout",
          "text": [
            "Drive already mounted at /content/drive; to attempt to forcibly remount, call drive.mount(\"/content/drive\", force_remount=True).\n"
          ]
        }
      ]
    },
    {
      "cell_type": "code",
      "source": [
        "!pip install pillow_heif"
      ],
      "metadata": {
        "colab": {
          "base_uri": "https://localhost:8080/"
        },
        "id": "VHEEacIjpseg",
        "outputId": "d70f8b45-7aac-431e-a0bf-77dd9b72b745"
      },
      "execution_count": 8,
      "outputs": [
        {
          "output_type": "stream",
          "name": "stdout",
          "text": [
            "Collecting pillow_heif\n",
            "  Downloading pillow_heif-0.2.3-cp37-cp37m-manylinux_2_17_x86_64.manylinux2014_x86_64.whl (13.1 MB)\n",
            "\u001b[K     |████████████████████████████████| 13.1 MB 4.9 MB/s \n",
            "\u001b[?25hRequirement already satisfied: cffi>=1.14.6 in /usr/local/lib/python3.7/dist-packages (from pillow_heif) (1.15.0)\n",
            "Requirement already satisfied: pillow>=6.0.0 in /usr/local/lib/python3.7/dist-packages (from pillow_heif) (7.1.2)\n",
            "Requirement already satisfied: pycparser in /usr/local/lib/python3.7/dist-packages (from cffi>=1.14.6->pillow_heif) (2.21)\n",
            "Installing collected packages: pillow-heif\n",
            "Successfully installed pillow-heif-0.2.3\n"
          ]
        }
      ]
    },
    {
      "cell_type": "code",
      "source": [
        "#Change the file format of images from '.HEIC' (iPhone) to '.png'\n",
        "from PIL import Image\n",
        "import pillow_heif\n",
        "\n",
        "for i in range(79,94):\n",
        "  link = '/content/drive/MyDrive/Coding-Task-2'\n",
        "  name = 'IMG_53' + str(i)\n",
        "  print(name)\n",
        "  heif_file = pillow_heif.read(link + '/' + name + '.HEIC')\n",
        "  image = Image.frombytes(heif_file.mode,heif_file.size,heif_file.data,\"raw\")\n",
        "  name = name.split('.')[0] + '.png'\n",
        "  image.save(link + name, format = \"png\")\n",
        "  print(link)"
      ],
      "metadata": {
        "colab": {
          "base_uri": "https://localhost:8080/"
        },
        "id": "vNSmVA_3qzRW",
        "outputId": "7a84ee4f-7451-49cb-97af-116ed332cf44"
      },
      "execution_count": null,
      "outputs": [
        {
          "output_type": "stream",
          "name": "stdout",
          "text": [
            "IMG_5379\n"
          ]
        },
        {
          "output_type": "stream",
          "name": "stderr",
          "text": [
            "Exception ignored in: <function LibHeifCtx.__del__ at 0x7f974e9a40e0>\n",
            "Traceback (most recent call last):\n",
            "  File \"/usr/local/lib/python3.7/dist-packages/pillow_heif/_libheif_ctx.py\", line 51, in __del__\n",
            "    if self._fp_close_after and self.fp and hasattr(self.fp, \"close\"):\n",
            "AttributeError: 'LibHeifCtx' object has no attribute 'fp'\n"
          ]
        },
        {
          "output_type": "stream",
          "name": "stdout",
          "text": [
            "/content/drive/MyDrive/Coding-Task-2\n",
            "IMG_5380\n",
            "/content/drive/MyDrive/Coding-Task-2\n",
            "IMG_5381\n",
            "/content/drive/MyDrive/Coding-Task-2\n",
            "IMG_5382\n",
            "/content/drive/MyDrive/Coding-Task-2\n",
            "IMG_5383\n",
            "/content/drive/MyDrive/Coding-Task-2\n",
            "IMG_5384\n",
            "/content/drive/MyDrive/Coding-Task-2\n",
            "IMG_5385\n"
          ]
        }
      ]
    },
    {
      "cell_type": "code",
      "source": [
        ""
      ],
      "metadata": {
        "id": "N_dVnzjfrK7X"
      },
      "execution_count": 4,
      "outputs": []
    }
  ]
}